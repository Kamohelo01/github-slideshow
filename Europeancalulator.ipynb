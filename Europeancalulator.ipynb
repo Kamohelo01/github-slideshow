{
  "nbformat": 4,
  "nbformat_minor": 0,
  "metadata": {
    "colab": {
      "name": "Europeancalulator.ipynb",
      "provenance": [],
      "collapsed_sections": [],
      "mount_file_id": "1kod2jGI-lGFFIKtEUOw9kuyyoY6-82_7",
      "authorship_tag": "ABX9TyM0Z1BRBERPERt7rwR5KW70",
      "include_colab_link": true
    },
    "kernelspec": {
      "name": "python3",
      "display_name": "Python 3"
    },
    "language_info": {
      "name": "python"
    }
  },
  "cells": [
    {
      "cell_type": "markdown",
      "metadata": {
        "id": "view-in-github",
        "colab_type": "text"
      },
      "source": [
        "<a href=\"https://colab.research.google.com/github/Kamohelo01/github-slideshow/blob/main/Europeancalulator.ipynb\" target=\"_parent\"><img src=\"https://colab.research.google.com/assets/colab-badge.svg\" alt=\"Open In Colab\"/></a>"
      ]
    },
    {
      "cell_type": "code",
      "metadata": {
        "id": "NIsvE4QfsIdj"
      },
      "source": [
        "import pandas as pd\n",
        "import numpy as np\n",
        "import warnings\n",
        "import matplotlib.pyplot as plt\n",
        "\n"
      ],
      "execution_count": null,
      "outputs": []
    },
    {
      "cell_type": "code",
      "metadata": {
        "id": "9NJ5Pfwy317k",
        "colab": {
          "base_uri": "https://localhost:8080/"
        },
        "outputId": "f0afba1f-eae2-4b47-d177-0253e989a874"
      },
      "source": [
        "from google.colab import drive\n",
        "drive.mount('/content/drive')"
      ],
      "execution_count": null,
      "outputs": [
        {
          "output_type": "stream",
          "name": "stdout",
          "text": [
            "Drive already mounted at /content/drive; to attempt to forcibly remount, call drive.mount(\"/content/drive\", force_remount=True).\n"
          ]
        }
      ]
    },
    {
      "cell_type": "code",
      "metadata": {
        "colab": {
          "base_uri": "https://localhost:8080/",
          "height": 206
        },
        "id": "hwYAewLK4VmJ",
        "outputId": "c435d89c-34a9-40d3-d83a-ad1dda7ca4b7"
      },
      "source": [
        "df = pd.read_csv(\"/content/drive/MyDrive/Test/BinomialOptions.csv\")\n",
        "df.head()"
      ],
      "execution_count": null,
      "outputs": [
        {
          "output_type": "execute_result",
          "data": {
            "text/html": [
              "\n",
              "  <div id=\"df-b899dd45-102a-4781-919b-77dc5dee1f46\">\n",
              "    <div class=\"colab-df-container\">\n",
              "      <div>\n",
              "<style scoped>\n",
              "    .dataframe tbody tr th:only-of-type {\n",
              "        vertical-align: middle;\n",
              "    }\n",
              "\n",
              "    .dataframe tbody tr th {\n",
              "        vertical-align: top;\n",
              "    }\n",
              "\n",
              "    .dataframe thead th {\n",
              "        text-align: right;\n",
              "    }\n",
              "</style>\n",
              "<table border=\"1\" class=\"dataframe\">\n",
              "  <thead>\n",
              "    <tr style=\"text-align: right;\">\n",
              "      <th></th>\n",
              "      <th>OptionID</th>\n",
              "      <th>Date</th>\n",
              "      <th>ExpiryDate</th>\n",
              "      <th>UnderlyingPrice</th>\n",
              "      <th>StrikePrice</th>\n",
              "      <th>ImpliedVolatility</th>\n",
              "      <th>PutCall</th>\n",
              "      <th>RiskFreeInterestRate</th>\n",
              "    </tr>\n",
              "  </thead>\n",
              "  <tbody>\n",
              "    <tr>\n",
              "      <th>0</th>\n",
              "      <td>1</td>\n",
              "      <td>2021/10/04</td>\n",
              "      <td>2021/12/15</td>\n",
              "      <td>100.00</td>\n",
              "      <td>105</td>\n",
              "      <td>5%</td>\n",
              "      <td>C</td>\n",
              "      <td>6%</td>\n",
              "    </tr>\n",
              "    <tr>\n",
              "      <th>1</th>\n",
              "      <td>2</td>\n",
              "      <td>2021/10/04</td>\n",
              "      <td>2021/12/15</td>\n",
              "      <td>140.00</td>\n",
              "      <td>165</td>\n",
              "      <td>25%</td>\n",
              "      <td>C</td>\n",
              "      <td>6%</td>\n",
              "    </tr>\n",
              "    <tr>\n",
              "      <th>2</th>\n",
              "      <td>3</td>\n",
              "      <td>2021/10/04</td>\n",
              "      <td>2021/12/15</td>\n",
              "      <td>15.00</td>\n",
              "      <td>10</td>\n",
              "      <td>10%</td>\n",
              "      <td>P</td>\n",
              "      <td>6%</td>\n",
              "    </tr>\n",
              "    <tr>\n",
              "      <th>3</th>\n",
              "      <td>4</td>\n",
              "      <td>2021/10/04</td>\n",
              "      <td>2021/12/15</td>\n",
              "      <td>132.75</td>\n",
              "      <td>100</td>\n",
              "      <td>3%</td>\n",
              "      <td>P</td>\n",
              "      <td>6%</td>\n",
              "    </tr>\n",
              "    <tr>\n",
              "      <th>4</th>\n",
              "      <td>5</td>\n",
              "      <td>2021/10/04</td>\n",
              "      <td>2021/12/15</td>\n",
              "      <td>92.00</td>\n",
              "      <td>97</td>\n",
              "      <td>7%</td>\n",
              "      <td>C</td>\n",
              "      <td>6%</td>\n",
              "    </tr>\n",
              "  </tbody>\n",
              "</table>\n",
              "</div>\n",
              "      <button class=\"colab-df-convert\" onclick=\"convertToInteractive('df-b899dd45-102a-4781-919b-77dc5dee1f46')\"\n",
              "              title=\"Convert this dataframe to an interactive table.\"\n",
              "              style=\"display:none;\">\n",
              "        \n",
              "  <svg xmlns=\"http://www.w3.org/2000/svg\" height=\"24px\"viewBox=\"0 0 24 24\"\n",
              "       width=\"24px\">\n",
              "    <path d=\"M0 0h24v24H0V0z\" fill=\"none\"/>\n",
              "    <path d=\"M18.56 5.44l.94 2.06.94-2.06 2.06-.94-2.06-.94-.94-2.06-.94 2.06-2.06.94zm-11 1L8.5 8.5l.94-2.06 2.06-.94-2.06-.94L8.5 2.5l-.94 2.06-2.06.94zm10 10l.94 2.06.94-2.06 2.06-.94-2.06-.94-.94-2.06-.94 2.06-2.06.94z\"/><path d=\"M17.41 7.96l-1.37-1.37c-.4-.4-.92-.59-1.43-.59-.52 0-1.04.2-1.43.59L10.3 9.45l-7.72 7.72c-.78.78-.78 2.05 0 2.83L4 21.41c.39.39.9.59 1.41.59.51 0 1.02-.2 1.41-.59l7.78-7.78 2.81-2.81c.8-.78.8-2.07 0-2.86zM5.41 20L4 18.59l7.72-7.72 1.47 1.35L5.41 20z\"/>\n",
              "  </svg>\n",
              "      </button>\n",
              "      \n",
              "  <style>\n",
              "    .colab-df-container {\n",
              "      display:flex;\n",
              "      flex-wrap:wrap;\n",
              "      gap: 12px;\n",
              "    }\n",
              "\n",
              "    .colab-df-convert {\n",
              "      background-color: #E8F0FE;\n",
              "      border: none;\n",
              "      border-radius: 50%;\n",
              "      cursor: pointer;\n",
              "      display: none;\n",
              "      fill: #1967D2;\n",
              "      height: 32px;\n",
              "      padding: 0 0 0 0;\n",
              "      width: 32px;\n",
              "    }\n",
              "\n",
              "    .colab-df-convert:hover {\n",
              "      background-color: #E2EBFA;\n",
              "      box-shadow: 0px 1px 2px rgba(60, 64, 67, 0.3), 0px 1px 3px 1px rgba(60, 64, 67, 0.15);\n",
              "      fill: #174EA6;\n",
              "    }\n",
              "\n",
              "    [theme=dark] .colab-df-convert {\n",
              "      background-color: #3B4455;\n",
              "      fill: #D2E3FC;\n",
              "    }\n",
              "\n",
              "    [theme=dark] .colab-df-convert:hover {\n",
              "      background-color: #434B5C;\n",
              "      box-shadow: 0px 1px 3px 1px rgba(0, 0, 0, 0.15);\n",
              "      filter: drop-shadow(0px 1px 2px rgba(0, 0, 0, 0.3));\n",
              "      fill: #FFFFFF;\n",
              "    }\n",
              "  </style>\n",
              "\n",
              "      <script>\n",
              "        const buttonEl =\n",
              "          document.querySelector('#df-b899dd45-102a-4781-919b-77dc5dee1f46 button.colab-df-convert');\n",
              "        buttonEl.style.display =\n",
              "          google.colab.kernel.accessAllowed ? 'block' : 'none';\n",
              "\n",
              "        async function convertToInteractive(key) {\n",
              "          const element = document.querySelector('#df-b899dd45-102a-4781-919b-77dc5dee1f46');\n",
              "          const dataTable =\n",
              "            await google.colab.kernel.invokeFunction('convertToInteractive',\n",
              "                                                     [key], {});\n",
              "          if (!dataTable) return;\n",
              "\n",
              "          const docLinkHtml = 'Like what you see? Visit the ' +\n",
              "            '<a target=\"_blank\" href=https://colab.research.google.com/notebooks/data_table.ipynb>data table notebook</a>'\n",
              "            + ' to learn more about interactive tables.';\n",
              "          element.innerHTML = '';\n",
              "          dataTable['output_type'] = 'display_data';\n",
              "          await google.colab.output.renderOutput(dataTable, element);\n",
              "          const docLink = document.createElement('div');\n",
              "          docLink.innerHTML = docLinkHtml;\n",
              "          element.appendChild(docLink);\n",
              "        }\n",
              "      </script>\n",
              "    </div>\n",
              "  </div>\n",
              "  "
            ],
            "text/plain": [
              "   OptionID        Date  ... PutCall  RiskFreeInterestRate\n",
              "0         1  2021/10/04  ...       C                    6%\n",
              "1         2  2021/10/04  ...       C                    6%\n",
              "2         3  2021/10/04  ...       P                    6%\n",
              "3         4  2021/10/04  ...       P                    6%\n",
              "4         5  2021/10/04  ...       C                    6%\n",
              "\n",
              "[5 rows x 8 columns]"
            ]
          },
          "metadata": {},
          "execution_count": 46
        }
      ]
    },
    {
      "cell_type": "code",
      "source": [
        "df.columns"
      ],
      "metadata": {
        "colab": {
          "base_uri": "https://localhost:8080/"
        },
        "id": "ldRmouPc-zyQ",
        "outputId": "abe52178-ded6-4a0c-f74a-87bd688b6472"
      },
      "execution_count": null,
      "outputs": [
        {
          "output_type": "execute_result",
          "data": {
            "text/plain": [
              "Index(['OptionID', 'Date', 'ExpiryDate', 'UnderlyingPrice', 'StrikePrice',\n",
              "       'ImpliedVolatility', 'PutCall', 'RiskFreeInterestRate', 'percentage',\n",
              "       'n', 't', 'q'],\n",
              "      dtype='object')"
            ]
          },
          "metadata": {},
          "execution_count": 100
        }
      ]
    },
    {
      "cell_type": "code",
      "source": [
        "# Initialise parameters\n",
        "S0 = UnderlyingPrice # initial stock price /1/\n",
        "K = StrikePrice # strike price /2/\n",
        "T = ExpiryDate - Date # time to maturity in years\n",
        "r = RiskFreeInterestRate # annual risk-free rate\n",
        "N = 5 # number of timesteps\n",
        "# u =  # up-factor in binomial models\n",
        "# d = 1/u # ensure recombining tree\n",
        "sigma = ImpliedVolatility #Annualised stock price volatility\n",
        "opttype = PullCall # Option Type 'C' or 'P'"
      ],
      "metadata": {
        "id": "cXG5lZ6-62bt",
        "colab": {
          "base_uri": "https://localhost:8080/",
          "height": 235
        },
        "outputId": "5123b9e1-0976-4e97-e68e-2554bdd51d6c"
      },
      "execution_count": null,
      "outputs": [
        {
          "output_type": "error",
          "ename": "NameError",
          "evalue": "ignored",
          "traceback": [
            "\u001b[0;31m---------------------------------------------------------------------------\u001b[0m",
            "\u001b[0;31mNameError\u001b[0m                                 Traceback (most recent call last)",
            "\u001b[0;32m<ipython-input-99-f1381ae168d1>\u001b[0m in \u001b[0;36m<module>\u001b[0;34m()\u001b[0m\n\u001b[1;32m      1\u001b[0m \u001b[0;31m# Initialise parameters\u001b[0m\u001b[0;34m\u001b[0m\u001b[0;34m\u001b[0m\u001b[0;34m\u001b[0m\u001b[0m\n\u001b[0;32m----> 2\u001b[0;31m \u001b[0mS0\u001b[0m \u001b[0;34m=\u001b[0m \u001b[0mUnderlyingPrice\u001b[0m \u001b[0;31m# initial stock price /1/\u001b[0m\u001b[0;34m\u001b[0m\u001b[0;34m\u001b[0m\u001b[0m\n\u001b[0m\u001b[1;32m      3\u001b[0m \u001b[0mK\u001b[0m \u001b[0;34m=\u001b[0m \u001b[0mStrikePrice\u001b[0m \u001b[0;31m# strike price /2/\u001b[0m\u001b[0;34m\u001b[0m\u001b[0;34m\u001b[0m\u001b[0m\n\u001b[1;32m      4\u001b[0m \u001b[0mT\u001b[0m \u001b[0;34m=\u001b[0m \u001b[0mExpiryDate\u001b[0m \u001b[0;34m-\u001b[0m \u001b[0mDate\u001b[0m \u001b[0;31m# time to maturity in years\u001b[0m\u001b[0;34m\u001b[0m\u001b[0;34m\u001b[0m\u001b[0m\n\u001b[1;32m      5\u001b[0m \u001b[0mr\u001b[0m \u001b[0;34m=\u001b[0m \u001b[0mRiskFreeInterestRate\u001b[0m \u001b[0;31m# annual risk-free rate\u001b[0m\u001b[0;34m\u001b[0m\u001b[0;34m\u001b[0m\u001b[0m\n",
            "\u001b[0;31mNameError\u001b[0m: name 'UnderlyingPrice' is not defined"
          ]
        }
      ]
    },
    {
      "cell_type": "markdown",
      "source": [
        "Binomial Tree Slow"
      ],
      "metadata": {
        "id": "QCFrrC4z74MQ"
      }
    },
    {
      "cell_type": "code",
      "source": [
        "def CRR_method(K,T,S0,r,N,sigma,opttype='PullCall'):\n",
        "    #precomute constants\n",
        "    dt = T/N\n",
        "    u = np.exp(sigma*np.sqrt(dt))\n",
        "    d = 1/u\n",
        "    q = (np.exp(r*dt) - d) / (u-d)\n",
        "    disc = np.exp(-r*dt)\n",
        "\n",
        "    #initials asset prices at maturity - Time spend N\n",
        "    S = np.zeros(N+1)\n",
        "    S[0] = S0*d**N\n",
        "    for j in range(1,N+1):\n",
        "      S[j] = S[j-1]*u/d\n",
        "\n",
        "    # initialise option values at maturity///\n",
        "    C = np.zeros(N+1)                                                                                                                                                                                                                                                                                                                                                                                                                                                                                                                                                                                                                                                                                                                                                                                                                                                                                                                                                                                                                                                                                                                                                                                                                                                                                                                                                                                                                                                                                                                  \n",
        "    for j in range(0,N+1):\n",
        "      C[j] = max(0,S[j]-K)\n",
        "\n",
        "    # step backwars thourgh tree\n",
        "    for i in np.arange(N,0,-1):\n",
        "      for j in range(0,i):\n",
        "        C[j] = disc * ( q*C[j+1] + (1-q)*C[j] )\n",
        "\n",
        "    return C[0]\n",
        "\n",
        "CRR_method(K,T,S0,r,N,sigma,opttype='C')"
      ],
      "metadata": {
        "colab": {
          "base_uri": "https://localhost:8080/",
          "height": 321
        },
        "id": "wX_aJ_sEe2k6",
        "outputId": "1beb13aa-b265-4fcb-bdbf-9bc620fc1702"
      },
      "execution_count": null,
      "outputs": [
        {
          "output_type": "error",
          "ename": "TypeError",
          "evalue": "ignored",
          "traceback": [
            "\u001b[0;31m---------------------------------------------------------------------------\u001b[0m",
            "\u001b[0;31mTypeError\u001b[0m                                 Traceback (most recent call last)",
            "\u001b[0;32m<ipython-input-91-eb530cad2783>\u001b[0m in \u001b[0;36m<module>\u001b[0;34m()\u001b[0m\n\u001b[1;32m     25\u001b[0m     \u001b[0;32mreturn\u001b[0m \u001b[0mC\u001b[0m\u001b[0;34m[\u001b[0m\u001b[0;36m0\u001b[0m\u001b[0;34m]\u001b[0m\u001b[0;34m\u001b[0m\u001b[0;34m\u001b[0m\u001b[0m\n\u001b[1;32m     26\u001b[0m \u001b[0;34m\u001b[0m\u001b[0m\n\u001b[0;32m---> 27\u001b[0;31m \u001b[0mCRR_method\u001b[0m\u001b[0;34m(\u001b[0m\u001b[0mK\u001b[0m\u001b[0;34m,\u001b[0m\u001b[0mT\u001b[0m\u001b[0;34m,\u001b[0m\u001b[0mS0\u001b[0m\u001b[0;34m,\u001b[0m\u001b[0mr\u001b[0m\u001b[0;34m,\u001b[0m\u001b[0mN\u001b[0m\u001b[0;34m,\u001b[0m\u001b[0msigma\u001b[0m\u001b[0;34m,\u001b[0m\u001b[0mopttype\u001b[0m\u001b[0;34m=\u001b[0m\u001b[0;34m'C'\u001b[0m\u001b[0;34m)\u001b[0m\u001b[0;34m\u001b[0m\u001b[0;34m\u001b[0m\u001b[0m\n\u001b[0m",
            "\u001b[0;32m<ipython-input-91-eb530cad2783>\u001b[0m in \u001b[0;36mCRR_method\u001b[0;34m(K, T, S0, r, N, sigma, opttype)\u001b[0m\n\u001b[1;32m      9\u001b[0m     \u001b[0;31m#initials asset prices at maturity - Time spend N\u001b[0m\u001b[0;34m\u001b[0m\u001b[0;34m\u001b[0m\u001b[0;34m\u001b[0m\u001b[0m\n\u001b[1;32m     10\u001b[0m     \u001b[0mS\u001b[0m \u001b[0;34m=\u001b[0m \u001b[0mnp\u001b[0m\u001b[0;34m.\u001b[0m\u001b[0mzeros\u001b[0m\u001b[0;34m(\u001b[0m\u001b[0mN\u001b[0m\u001b[0;34m+\u001b[0m\u001b[0;36m1\u001b[0m\u001b[0;34m)\u001b[0m\u001b[0;34m\u001b[0m\u001b[0;34m\u001b[0m\u001b[0m\n\u001b[0;32m---> 11\u001b[0;31m     \u001b[0mS\u001b[0m\u001b[0;34m[\u001b[0m\u001b[0;36m0\u001b[0m\u001b[0;34m]\u001b[0m \u001b[0;34m=\u001b[0m \u001b[0mS0\u001b[0m\u001b[0;34m*\u001b[0m\u001b[0md\u001b[0m\u001b[0;34m**\u001b[0m\u001b[0mN\u001b[0m\u001b[0;34m\u001b[0m\u001b[0;34m\u001b[0m\u001b[0m\n\u001b[0m\u001b[1;32m     12\u001b[0m     \u001b[0;32mfor\u001b[0m \u001b[0mj\u001b[0m \u001b[0;32min\u001b[0m \u001b[0mrange\u001b[0m\u001b[0;34m(\u001b[0m\u001b[0;36m1\u001b[0m\u001b[0;34m,\u001b[0m\u001b[0mN\u001b[0m\u001b[0;34m+\u001b[0m\u001b[0;36m1\u001b[0m\u001b[0;34m)\u001b[0m\u001b[0;34m:\u001b[0m\u001b[0;34m\u001b[0m\u001b[0;34m\u001b[0m\u001b[0m\n\u001b[1;32m     13\u001b[0m       \u001b[0mS\u001b[0m\u001b[0;34m[\u001b[0m\u001b[0mj\u001b[0m\u001b[0;34m]\u001b[0m \u001b[0;34m=\u001b[0m \u001b[0mS\u001b[0m\u001b[0;34m[\u001b[0m\u001b[0mj\u001b[0m\u001b[0;34m-\u001b[0m\u001b[0;36m1\u001b[0m\u001b[0;34m]\u001b[0m\u001b[0;34m*\u001b[0m\u001b[0mu\u001b[0m\u001b[0;34m/\u001b[0m\u001b[0md\u001b[0m\u001b[0;34m\u001b[0m\u001b[0;34m\u001b[0m\u001b[0m\n",
            "\u001b[0;31mTypeError\u001b[0m: can't multiply sequence by non-int of type 'numpy.float64'"
          ]
        }
      ]
    },
    {
      "cell_type": "markdown",
      "source": [
        "Binomial Tree Fast"
      ],
      "metadata": {
        "id": "R-lOgzUHff_-"
      }
    },
    {
      "cell_type": "code",
      "source": [
        "\n",
        "def binomial_tree_fast(K,T,S0,r,N,u,d,opttype='C'):\n",
        "    #precomute constants\n",
        "    dt = T/N\n",
        "    q = (np.exp(r*dt) - d) / (u-d)\n",
        "    disc = np.exp(-r*dt)\n",
        "\n",
        "    #initials asset prices at maturity - Time spend N\n",
        "    C = S0 * d ** (np.arange(N,-1,-1)) * u ** (np.arange(0,N+1,1))\n",
        "\n",
        "    # initialise option values at maturity\n",
        "    C = np.maximum( C - K, np.zeros(N+1) )\n",
        "\n",
        "    # step backwars thourgh tree\n",
        "    for i in np.arange(N,0,-1):\n",
        "        C = disc * ( q * C[1:i+1] + (1-q) * C[0:i] )\n",
        "\n",
        "    return C[0]\n"
      ],
      "metadata": {
        "id": "3jKNHM5kfkNA"
      },
      "execution_count": null,
      "outputs": []
    }
  ]
}